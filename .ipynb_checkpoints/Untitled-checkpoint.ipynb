{
 "cells": [
  {
   "cell_type": "code",
   "execution_count": 29,
   "id": "7315e66b-0ebc-4467-b6b6-09e5248dbd41",
   "metadata": {},
   "outputs": [
    {
     "name": "stdout",
     "output_type": "stream",
     "text": [
      "Установлено соединение с базой данных.\n",
      "Выполнен запрос: SELECT * FROM users;\n",
      "Выполнен запрос: SELECT * FROM users;\n",
      "Выполнен запрос: SELECT * FROM users;\n",
      "Выполнен запрос: SELECT * FROM users;\n",
      "Выполнен запрос: SELECT * FROM users;\n"
     ]
    }
   ],
   "source": [
    "import threading\n",
    "\n",
    "class DatabaseManager:\n",
    "    _lock = threading.Lock()\n",
    "    _instance = None\n",
    "\n",
    "    def __new__(cls):\n",
    "        with cls._lock:\n",
    "            if not isinstance(cls._instance, cls):\n",
    "                cls._instance = object.__new__(cls)\n",
    "        return cls._instance\n",
    "\n",
    "    def __init__(self):\n",
    "        self.connection = self.create_connection()\n",
    "\n",
    "    def create_connection(self):\n",
    "        # Реализация создания соединения с базой данных\n",
    "        print(\"Установлено соединение с базой данных.\")\n",
    "        return \"connection\"\n",
    "\n",
    "    def execute_query(self, query):\n",
    "        # Реализация выполнения SQL-запросов\n",
    "        print(f\"Выполнен запрос: {query}\")\n",
    "\n",
    "# Пример использования\n",
    "def worker(manager):\n",
<<<<<<< HEAD
    "    manager.execute_query(\"SELECT * FROM users dfdfdfddsfsdfsdssfddf;\")\n",
=======
    "    manager.execute_query(\"SELECT * FROM users;\")\n",
>>>>>>> parent of b3b745d... first
    "\n",
    "if __name__ == \"__main__\":\n",
    "    db_manager = DatabaseManager()\n",
    "\n",
    "    threads = []\n",
    "    for i in range(5):\n",
    "        thread = threading.Thread(target=worker, args=(db_manager,))\n",
    "        threads.append(thread)\n",
    "        thread.start()\n",
    "\n",
    "    for thread in threads:\n",
    "        thread.join()"
   ]
  },
  {
   "cell_type": "code",
   "execution_count": null,
   "id": "c75433b0-181a-44df-8000-0499d5530529",
   "metadata": {},
   "outputs": [],
   "source": []
  }
 ],
 "metadata": {
  "kernelspec": {
   "display_name": "Python 3 (ipykernel)",
   "language": "python",
   "name": "python3"
  },
  "language_info": {
   "codemirror_mode": {
    "name": "ipython",
    "version": 3
   },
   "file_extension": ".py",
   "mimetype": "text/x-python",
   "name": "python",
   "nbconvert_exporter": "python",
   "pygments_lexer": "ipython3",
   "version": "3.13.0"
  }
 },
 "nbformat": 4,
 "nbformat_minor": 5
}
